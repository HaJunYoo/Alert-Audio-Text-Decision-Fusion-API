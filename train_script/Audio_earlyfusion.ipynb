{
  "cells": [
    {
      "cell_type": "code",
      "execution_count": null,
      "metadata": {
        "id": "plWc5S-d__Gi"
      },
      "outputs": [],
      "source": [
        "# from google.colab import drive\n",
        "# drive.mount('/content/drive')"
      ]
    },
    {
      "cell_type": "code",
      "execution_count": 1,
      "metadata": {
        "id": "rl-U6Dv48WfD"
      },
      "outputs": [],
      "source": [
        "!mkdir -p /content/data"
      ]
    },
    {
      "cell_type": "code",
      "execution_count": 2,
      "metadata": {
        "id": "81nuDstoFORn"
      },
      "outputs": [],
      "source": [
        "id = 'your google drive file id'"
      ]
    },
    {
      "cell_type": "code",
      "execution_count": null,
      "metadata": {},
      "outputs": [],
      "source": [
        "!wget --load-cookies /tmp/cookies.txt \"https://docs.google.com/uc?export=download&confirm=$(wget --quiet --save-cookies /tmp/cookies.txt --keep-session-cookies --no-check-certificate 'https://docs.google.com/uc?export=download&id={id}' -O- | sed -rn 's/.*confirm=([0-9A-Za-z_]+).*/\\1\\n/p')&id={id}\" -O data.zip && rm -rf /tmp/cookies.txt"
      ]
    },
    {
      "cell_type": "code",
      "execution_count": 4,
      "metadata": {
        "id": "j_IBrbOW_Gzh"
      },
      "outputs": [],
      "source": [
        "!unzip -qq -o /content/data.zip -d /content/data"
      ]
    },
    {
      "cell_type": "code",
      "execution_count": 5,
      "metadata": {
        "id": "jSl6MqKE_cZc"
      },
      "outputs": [],
      "source": [
        "!rm -rf /content/data/__MACOSX"
      ]
    },
    {
      "cell_type": "code",
      "execution_count": 6,
      "metadata": {
        "colab": {
          "base_uri": "https://localhost:8080/"
        },
        "id": "a_ssSMz4ZSb3",
        "outputId": "abed533a-282f-4394-ba60-69d6f5e63d43"
      },
      "outputs": [
        {
          "name": "stdout",
          "output_type": "stream",
          "text": [
            "total 8\n",
            "drwxr-xr-x 3 root root 4096 Apr 29 07:57 regular\n",
            "drwxr-xr-x 3 root root 4096 Apr 29 10:45 alert\n"
          ]
        }
      ],
      "source": [
        "!ls -ltr /content/data/"
      ]
    },
    {
      "cell_type": "code",
      "execution_count": 7,
      "metadata": {
        "colab": {
          "base_uri": "https://localhost:8080/"
        },
        "id": "X82zX6a-ORbI",
        "outputId": "2ba389d9-dd33-4894-b4a1-527fe891b533"
      },
      "outputs": [
        {
          "name": "stdout",
          "output_type": "stream",
          "text": [
            "total 176\n",
            "drwxr-xr-x 2 root root 180224 Apr 29 07:58 train\n"
          ]
        }
      ],
      "source": [
        "!ls -ltr /content/data/regular"
      ]
    },
    {
      "cell_type": "markdown",
      "metadata": {
        "id": "KI13K3egHbmS"
      },
      "source": [
        "#### Library load"
      ]
    },
    {
      "cell_type": "code",
      "execution_count": 8,
      "metadata": {
        "colab": {
          "base_uri": "https://localhost:8080/"
        },
        "id": "F1_BYEloB0kj",
        "outputId": "99d3a7d7-04f4-4f75-bb4f-0599fb0599ac"
      },
      "outputs": [
        {
          "name": "stderr",
          "output_type": "stream",
          "text": [
            "<ipython-input-8-d48088455d32>:19: MatplotlibDeprecationWarning: The seaborn styles shipped by Matplotlib are deprecated since 3.6, as they no longer correspond to the styles shipped by seaborn. However, they will remain available as 'seaborn-v0_8-<style>'. Alternatively, directly use the seaborn API instead.\n",
            "  plt.style.use('seaborn-white')\n"
          ]
        }
      ],
      "source": [
        "import numpy as np\n",
        "import pandas as pd\n",
        "import librosa\n",
        "import os\n",
        "\n",
        "import matplotlib.pyplot as plt\n",
        "import itertools\n",
        "\n",
        "import torch\n",
        "import torch.nn as nn\n",
        "import torch.nn.functional as F\n",
        "from torch.utils.data import Dataset, DataLoader\n",
        "import torchvision.transforms as transforms\n",
        "\n",
        "from PIL import Image, ImageFile\n",
        "from skimage.transform import resize\n",
        "from copy import deepcopy\n",
        "\n",
        "plt.style.use('seaborn-white')"
      ]
    },
    {
      "cell_type": "code",
      "execution_count": 9,
      "metadata": {
        "colab": {
          "base_uri": "https://localhost:8080/"
        },
        "id": "DAKsFxuNYXYk",
        "outputId": "aa1b730b-c00d-4e0f-d01f-b801eefdc02a"
      },
      "outputs": [
        {
          "name": "stdout",
          "output_type": "stream",
          "text": [
            "cuda\n"
          ]
        }
      ],
      "source": [
        "device = 'cuda' if torch.cuda.is_available() else 'cpu'\n",
        "torch.manual_seed(1)\n",
        "if device == 'cuda':\n",
        "    torch.cuda.manual_seed_all(1)\n",
        "print (device)"
      ]
    },
    {
      "cell_type": "markdown",
      "metadata": {
        "id": "S0XbNyPg7Jvb"
      },
      "source": [
        "### Dataset, Dataloader"
      ]
    },
    {
      "cell_type": "code",
      "execution_count": 10,
      "metadata": {
        "id": "IdEkJsNyVoBz"
      },
      "outputs": [],
      "source": [
        "class AudioDataset(Dataset):\n",
        "    def __init__(self, data_dir, label_names, folder='train', input_shape = (64, 64), duration=5, sr=44100, n_fft=1024, n_hop=1024, \\\n",
        "                 n_mfcc=48, n_mels=128, transform=None):\n",
        "        self.data_dir = data_dir\n",
        "        self.label_names = label_names\n",
        "        self.folder = folder\n",
        "        self.duration = duration\n",
        "        self.sr = sr\n",
        "        self.n_fft = n_fft\n",
        "        self.n_hop = n_hop\n",
        "        self.n_mfcc = n_mfcc\n",
        "        self.n_mels = n_mels\n",
        "        self.input_shape = input_shape\n",
        "        self.transform = transform\n",
        "        \n",
        "        self.data, self.labels = self.load_data()\n",
        "\n",
        "    def load_data(self):\n",
        "        data = []\n",
        "        labels = []\n",
        "        for i, label in enumerate(self.label_names):\n",
        "            path = os.path.join(self.data_dir, label, self.folder)\n",
        "            for audio_file in os.listdir(path):\n",
        "                if audio_file.lower().endswith(('.wav')):\n",
        "                    audio_path = os.path.join(path, audio_file)\n",
        "                    try:\n",
        "                        full_audio_data, _ = librosa.load(audio_path, sr=self.sr)\n",
        "                        num_chunks = int(np.ceil(len(full_audio_data) / (self.sr * self.duration)))\n",
        "\n",
        "                        for chunk_idx in range(num_chunks):\n",
        "                            start_sample = chunk_idx * self.duration * self.sr\n",
        "                            end_sample = (chunk_idx + 1) * self.duration * self.sr\n",
        "                            audio_data = full_audio_data[start_sample:end_sample]\n",
        "                            \n",
        "                            stft = np.abs(librosa.stft(audio_data, n_fft=self.n_fft, hop_length=self.n_hop))\n",
        "                            melspec = librosa.feature.melspectrogram(y=audio_data, sr=self.sr, n_fft=self.n_fft, hop_length=self.n_hop, n_mels=self.n_mels)\n",
        "                            mfcc = librosa.feature.mfcc(S=librosa.power_to_db(melspec), sr=self.sr, n_mfcc=self.n_mfcc)\n",
        "                            \n",
        "                            # Normalize Mel-spectrogram\n",
        "                            melspec_mean = np.mean(melspec)\n",
        "                            melspec_std = np.std(melspec)\n",
        "                            melspec_std += 1e-8  # Add a small value to avoid division by zero\n",
        "                            melspec_norm = (melspec - melspec_mean) / melspec_std\n",
        "                            \n",
        "                            # Normalize MFCC\n",
        "                            mfcc_mean = np.mean(mfcc)\n",
        "                            mfcc_std = np.std(mfcc)\n",
        "                            mfcc_std += 1e-8  # Add a small value to avoid division by zero\n",
        "                            mfcc_norm = (mfcc - mfcc_mean) / mfcc_std\n",
        "\n",
        "                            # Resize each feature to the specified input_shape\n",
        "                            stft_resized = resize(stft, input_shape)\n",
        "                            melspec_norm_resized = resize(melspec_norm, input_shape)\n",
        "                            mfcc_norm_resized = resize(mfcc_norm, input_shape)\n",
        "\n",
        "                            features = np.concatenate((stft_resized, melspec_norm_resized, mfcc_norm_resized), axis=0)\n",
        "                            \n",
        "                            data.append(features)\n",
        "                            labels.append(i)\n",
        "                    except:\n",
        "                        print(f\"Failed to process audio file: {audio_path}\")\n",
        "\n",
        "        return data, labels\n",
        "\n",
        "    def __len__(self):\n",
        "        return len(self.labels)\n",
        "\n",
        "    def __getitem__(self, idx):\n",
        "        sample = torch.tensor(self.data[idx]).float()\n",
        "        sample = sample.unsqueeze(0)  # Add a channel dimension\n",
        "        label = self.labels[idx]\n",
        "        return sample, label\n"
      ]
    },
    {
      "cell_type": "code",
      "execution_count": 44,
      "metadata": {
        "colab": {
          "base_uri": "https://localhost:8080/"
        },
        "id": "cE7GjH9p8quN",
        "outputId": "8c9785a5-a4b1-47d9-db26-4f9dcd2ce2af"
      },
      "outputs": [
        {
          "name": "stderr",
          "output_type": "stream",
          "text": [
            "/usr/local/lib/python3.10/dist-packages/librosa/core/spectrum.py:256: UserWarning: n_fft=1024 is too large for input signal of length=358\n",
            "  warnings.warn(\n",
            "/usr/local/lib/python3.10/dist-packages/librosa/core/spectrum.py:256: UserWarning: n_fft=1024 is too large for input signal of length=194\n",
            "  warnings.warn(\n",
            "/usr/local/lib/python3.10/dist-packages/librosa/core/spectrum.py:256: UserWarning: n_fft=1024 is too large for input signal of length=44\n",
            "  warnings.warn(\n"
          ]
        }
      ],
      "source": [
        "# Define the number of classes\n",
        "# num_classes = 2 or 6\n",
        "num_classes = 6\n",
        "label_names = ['regular', 'help', 'robbery', 'sexual', 'theft', 'violence']\n",
        "# label_names = ['regular', 'alert']\n",
        "\n",
        "# Define the path to the directory containing the audio files\n",
        "data_dir = '/content/data'\n",
        "\n",
        "# Define the batch size for training and validation\n",
        "batch_size = 32\n",
        "\n",
        "# Set the input shape\n",
        "input_shape = (64, 64)\n",
        "\n",
        "# Define the data transformations\n",
        "transform = transforms.Compose([\n",
        "    transforms.Resize(input_shape),\n",
        "    transforms.ToTensor(),\n",
        "    # transforms.Normalize(mean=[0.5], std=[0.5])\n",
        "])\n",
        "\n",
        "# Create the datasets\n",
        "dataset = AudioDataset(data_dir, label_names, folder='train',input_shape=input_shape ,transform=transform)\n",
        "\n",
        "# Split the datasets into training and validation sets\n",
        "train_size = int(len(dataset) * 0.8)\n",
        "val_size = len(dataset) - train_size\n",
        "train_dataset, val_dataset = torch.utils.data.random_split(dataset, [train_size, val_size])\n",
        "\n",
        "# Create the data loaders\n",
        "train_loader = DataLoader(train_dataset, batch_size=batch_size, shuffle=True)\n",
        "val_loader = DataLoader(val_dataset, batch_size=batch_size)"
      ]
    },
    {
      "cell_type": "code",
      "execution_count": 68,
      "metadata": {
        "colab": {
          "base_uri": "https://localhost:8080/"
        },
        "id": "7ox3NqBHPo2J",
        "outputId": "b0214c00-550a-4c51-ffa9-631d218eac90"
      },
      "outputs": [
        {
          "data": {
            "text/plain": [
              "{'regular': 0, 'help': 1, 'robbery': 2, 'sexual': 3, 'theft': 4, 'violence': 5}"
            ]
          },
          "execution_count": 68,
          "metadata": {},
          "output_type": "execute_result"
        }
      ],
      "source": [
        "label_to_index = {label: index for index, label in enumerate(label_names)}\n",
        "label_to_index"
      ]
    },
    {
      "cell_type": "code",
      "execution_count": 69,
      "metadata": {
        "colab": {
          "base_uri": "https://localhost:8080/"
        },
        "id": "i0mZoCzjBi7l",
        "outputId": "e6640ccc-4d44-494a-84c5-b0edb3dd2c61"
      },
      "outputs": [
        {
          "name": "stdout",
          "output_type": "stream",
          "text": [
            "9923 2481\n"
          ]
        }
      ],
      "source": [
        "print (len(train_dataset), len(val_dataset))"
      ]
    },
    {
      "cell_type": "code",
      "execution_count": 70,
      "metadata": {
        "colab": {
          "base_uri": "https://localhost:8080/"
        },
        "id": "fTnT7dlVP2Tp",
        "outputId": "bd35abc6-00d1-4832-c4e8-db1344854fb7"
      },
      "outputs": [
        {
          "data": {
            "text/plain": [
              "<torch.utils.data.dataloader.DataLoader at 0x7f070cba6b00>"
            ]
          },
          "execution_count": 70,
          "metadata": {},
          "output_type": "execute_result"
        }
      ],
      "source": [
        "train_loader"
      ]
    },
    {
      "cell_type": "code",
      "execution_count": 67,
      "metadata": {
        "colab": {
          "base_uri": "https://localhost:8080/"
        },
        "id": "hvgx2WrKQjGT",
        "outputId": "8ca278c2-b604-4347-9fcb-86b77158cdeb"
      },
      "outputs": [
        {
          "data": {
            "text/plain": [
              "torch.Size([1, 192, 64])"
            ]
          },
          "execution_count": 67,
          "metadata": {},
          "output_type": "execute_result"
        }
      ],
      "source": [
        "train_dataset[0][0].shape"
      ]
    },
    {
      "cell_type": "code",
      "execution_count": 71,
      "metadata": {
        "colab": {
          "base_uri": "https://localhost:8080/"
        },
        "id": "yCFhZ5kvUGlp",
        "outputId": "ad57976d-a4ae-4c46-8a96-3dac5238a5ea"
      },
      "outputs": [
        {
          "name": "stdout",
          "output_type": "stream",
          "text": [
            "Shape of the first object in the train_loader: torch.Size([32, 1, 192, 64])\n"
          ]
        }
      ],
      "source": [
        "# Get the first batch from the train_loader\n",
        "first_batch = next(iter(train_loader))\n",
        "\n",
        "# Get the data and labels from the first batch\n",
        "data, labels = first_batch\n",
        "\n",
        "# Print the shape of the first object in data\n",
        "print(\"Shape of the first object in the train_loader:\", data.shape)"
      ]
    },
    {
      "cell_type": "markdown",
      "metadata": {
        "id": "FQlvQpggIo1Z"
      },
      "source": [
        "## Fine Tuning"
      ]
    },
    {
      "cell_type": "markdown",
      "metadata": {
        "id": "RxCADmFRv3r3"
      },
      "source": [
        "#### Dense net"
      ]
    },
    {
      "cell_type": "code",
      "execution_count": 33,
      "metadata": {
        "colab": {
          "base_uri": "https://localhost:8080/"
        },
        "id": "3R5E2nTNJzPI",
        "outputId": "db6678b9-8d7b-4ced-e2ab-f1ae9b3f5859"
      },
      "outputs": [
        {
          "name": "stdout",
          "output_type": "stream",
          "text": [
            "Looking in indexes: https://pypi.org/simple, https://us-python.pkg.dev/colab-wheels/public/simple/\n",
            "Collecting timm\n",
            "  Downloading timm-0.6.13-py3-none-any.whl (549 kB)\n",
            "\u001b[2K     \u001b[90m━━━━━━━━━━━━━━━━━━━━━━━━━━━━━━━━━━━━━━\u001b[0m \u001b[32m549.1/549.1 kB\u001b[0m \u001b[31m10.1 MB/s\u001b[0m eta \u001b[36m0:00:00\u001b[0m\n",
            "\u001b[?25hCollecting huggingface-hub\n",
            "  Downloading huggingface_hub-0.14.1-py3-none-any.whl (224 kB)\n",
            "\u001b[2K     \u001b[90m━━━━━━━━━━━━━━━━━━━━━━━━━━━━━━━━━━━━━━\u001b[0m \u001b[32m224.5/224.5 kB\u001b[0m \u001b[31m26.2 MB/s\u001b[0m eta \u001b[36m0:00:00\u001b[0m\n",
            "\u001b[?25hRequirement already satisfied: pyyaml in /usr/local/lib/python3.10/dist-packages (from timm) (6.0)\n",
            "Requirement already satisfied: torch>=1.7 in /usr/local/lib/python3.10/dist-packages (from timm) (2.0.0+cu118)\n",
            "Requirement already satisfied: torchvision in /usr/local/lib/python3.10/dist-packages (from timm) (0.15.1+cu118)\n",
            "Requirement already satisfied: triton==2.0.0 in /usr/local/lib/python3.10/dist-packages (from torch>=1.7->timm) (2.0.0)\n",
            "Requirement already satisfied: networkx in /usr/local/lib/python3.10/dist-packages (from torch>=1.7->timm) (3.1)\n",
            "Requirement already satisfied: jinja2 in /usr/local/lib/python3.10/dist-packages (from torch>=1.7->timm) (3.1.2)\n",
            "Requirement already satisfied: sympy in /usr/local/lib/python3.10/dist-packages (from torch>=1.7->timm) (1.11.1)\n",
            "Requirement already satisfied: typing-extensions in /usr/local/lib/python3.10/dist-packages (from torch>=1.7->timm) (4.5.0)\n",
            "Requirement already satisfied: filelock in /usr/local/lib/python3.10/dist-packages (from torch>=1.7->timm) (3.12.0)\n",
            "Requirement already satisfied: lit in /usr/local/lib/python3.10/dist-packages (from triton==2.0.0->torch>=1.7->timm) (16.0.2)\n",
            "Requirement already satisfied: cmake in /usr/local/lib/python3.10/dist-packages (from triton==2.0.0->torch>=1.7->timm) (3.25.2)\n",
            "Requirement already satisfied: fsspec in /usr/local/lib/python3.10/dist-packages (from huggingface-hub->timm) (2023.4.0)\n",
            "Requirement already satisfied: requests in /usr/local/lib/python3.10/dist-packages (from huggingface-hub->timm) (2.27.1)\n",
            "Requirement already satisfied: packaging>=20.9 in /usr/local/lib/python3.10/dist-packages (from huggingface-hub->timm) (23.1)\n",
            "Requirement already satisfied: tqdm>=4.42.1 in /usr/local/lib/python3.10/dist-packages (from huggingface-hub->timm) (4.65.0)\n",
            "Requirement already satisfied: numpy in /usr/local/lib/python3.10/dist-packages (from torchvision->timm) (1.22.4)\n",
            "Requirement already satisfied: pillow!=8.3.*,>=5.3.0 in /usr/local/lib/python3.10/dist-packages (from torchvision->timm) (8.4.0)\n",
            "Requirement already satisfied: MarkupSafe>=2.0 in /usr/local/lib/python3.10/dist-packages (from jinja2->torch>=1.7->timm) (2.1.2)\n",
            "Requirement already satisfied: idna<4,>=2.5 in /usr/local/lib/python3.10/dist-packages (from requests->huggingface-hub->timm) (3.4)\n",
            "Requirement already satisfied: certifi>=2017.4.17 in /usr/local/lib/python3.10/dist-packages (from requests->huggingface-hub->timm) (2022.12.7)\n",
            "Requirement already satisfied: charset-normalizer~=2.0.0 in /usr/local/lib/python3.10/dist-packages (from requests->huggingface-hub->timm) (2.0.12)\n",
            "Requirement already satisfied: urllib3<1.27,>=1.21.1 in /usr/local/lib/python3.10/dist-packages (from requests->huggingface-hub->timm) (1.26.15)\n",
            "Requirement already satisfied: mpmath>=0.19 in /usr/local/lib/python3.10/dist-packages (from sympy->torch>=1.7->timm) (1.3.0)\n",
            "Installing collected packages: huggingface-hub, timm\n",
            "Successfully installed huggingface-hub-0.14.1 timm-0.6.13\n"
          ]
        }
      ],
      "source": [
        "!pip install timm"
      ]
    },
    {
      "cell_type": "code",
      "execution_count": 61,
      "metadata": {
        "id": "ivaWSAMfv0pq"
      },
      "outputs": [],
      "source": [
        "import timm\n",
        "\n",
        "# densenet\n",
        "class AudioModel(nn.Module):\n",
        "    '''\n",
        "    in_chans 파라미터는 입력 데이터의 채널 수를 나타냅니다.\n",
        "    각각의 특징(STFT, Mel-spectrogram, MFCC)이 수직 방향으로 연결되므로, 데이터의 채널 수는 1이 됩니다. 이 경우, in_chans 파라미터 값으로 1을 사용해야 합니다.\n",
        "    '''\n",
        "    def __init__(self,\n",
        "                 num_classes,\n",
        "                 model_name='densenet121',\n",
        "                 pretrained=True):\n",
        "        super(AudioModel, self).__init__()\n",
        "\n",
        "        self.model = timm.create_model(model_name,\n",
        "                                       pretrained=pretrained,\n",
        "                                       in_chans=1)\n",
        "        self.in_features = self.model.classifier.in_features\n",
        "        self.model.classifier = nn.Sequential(\n",
        "            nn.Linear(self.in_features, num_classes)\n",
        "        )\n",
        "\n",
        "    def forward(self, images):\n",
        "        logits = self.model(images)\n",
        "        return logits"
      ]
    },
    {
      "cell_type": "markdown",
      "metadata": {
        "id": "BZIyPFspFl8Z"
      },
      "source": []
    },
    {
      "cell_type": "markdown",
      "metadata": {
        "id": "wWv7S968v6pI"
      },
      "source": [
        "#### EfficientNet"
      ]
    },
    {
      "cell_type": "code",
      "execution_count": null,
      "metadata": {
        "id": "MQDWLGtjIr-x"
      },
      "outputs": [],
      "source": [
        "import timm\n",
        "\n",
        "class AudioModel(nn.Module):\n",
        "    def __init__(self,\n",
        "                 num_classes,\n",
        "                 model_name='efficientnet_b0',\n",
        "                 pretrained=True):\n",
        "        super(AudioModel, self).__init__()\n",
        "\n",
        "        self.model = timm.create_model(model_name,\n",
        "                                       pretrained=pretrained,\n",
        "                                       in_chans=4)\n",
        "        self.in_features = self.model.fc.in_features\n",
        "        self.model.fc = nn.Sequential(\n",
        "            nn.Linear(self.in_features, num_classes)\n",
        "        )\n",
        "\n",
        "    def forward(self, images):\n",
        "        logits = self.model(images)\n",
        "        return logits"
      ]
    },
    {
      "cell_type": "markdown",
      "metadata": {
        "id": "OlQGzFBIv_f2"
      },
      "source": [
        "#### train"
      ]
    },
    {
      "cell_type": "code",
      "execution_count": 75,
      "metadata": {
        "id": "BG6TMuDmZICj"
      },
      "outputs": [],
      "source": [
        "def accuracy(y_pred, y_true):\n",
        "  pred_labels = torch.argmax(y_pred, dim=1)\n",
        "  correct = pred_labels.eq(y_true).sum().item()\n",
        "  return correct / len(y_true)"
      ]
    },
    {
      "cell_type": "code",
      "execution_count": 77,
      "metadata": {
        "id": "OVaGM0a0YNvI"
      },
      "outputs": [],
      "source": [
        "def train_model(model, train_loader, val_loader, optimizer, loss_func, early_stop, n_epochs, progress_interval, device):\n",
        "\n",
        "    train_losses, valid_losses, train_accs, valid_accs, lowest_loss = list(), list(), list(), list(), np.inf\n",
        "    stop_counter = 0  # Add a counter to track the number of stagnant epochs\n",
        "\n",
        "    # Move the model to the GPU\n",
        "    model = model.to(device)\n",
        "    # Move the loss function to the GPU\n",
        "    criterion = loss_func.to(device)\n",
        "\n",
        "    for epoch in range(n_epochs):\n",
        "\n",
        "        train_loss, valid_loss, train_acc, valid_acc = 0, 0, 0, 0\n",
        "\n",
        "        # train the model\n",
        "        model.train() # prep model for training\n",
        "        for i, (x_minibatch, y_minibatch) in enumerate(train_loader):\n",
        "            x_minibatch = x_minibatch.to(device)\n",
        "            y_minibatch = y_minibatch.to(device)\n",
        "            y_minibatch_pred = model(x_minibatch)\n",
        "            loss = criterion(y_minibatch_pred, y_minibatch)\n",
        "\n",
        "            optimizer.zero_grad()\n",
        "            loss.backward()\n",
        "            optimizer.step()\n",
        "            train_loss += loss.item()\n",
        "            train_acc += accuracy(y_minibatch_pred, y_minibatch)\n",
        "\n",
        "            # print progress every 10 batches\n",
        "            if (i+1) % 10 == 0:\n",
        "                print(f\"Epoch [{epoch+1}/{n_epochs}], Step [{i+1}/{len(train_loader)}], \\\n",
        "                Train Loss: {train_loss/(i+1):.4f}, Train Acc: {train_acc/(i+1)*100:.2f}%\")\n",
        "\n",
        "        train_loss = train_loss / len(train_loader)\n",
        "        train_losses.append(train_loss)\n",
        "        train_acc = train_acc / len(train_loader)\n",
        "        train_accs.append(train_acc)   \n",
        "\n",
        "        # validate the model\n",
        "        model.eval()\n",
        "        with torch.no_grad():\n",
        "            for x_minibatch, y_minibatch in val_loader:\n",
        "                x_minibatch = x_minibatch.to(device)\n",
        "                y_minibatch = y_minibatch.to(device)\n",
        "                y_minibatch_pred = model(x_minibatch)\n",
        "                _, y_pred_label = torch.max(y_minibatch_pred, dim=1)\n",
        "                y_true.extend(y_minibatch.cpu().numpy())\n",
        "                y_pred.extend(y_pred_label.cpu().numpy())\n",
        "\n",
        "                loss = criterion(y_minibatch_pred, y_minibatch)\n",
        "                valid_loss += loss.item()\n",
        "                valid_acc += accuracy(y_minibatch_pred, y_minibatch)\n",
        "\n",
        "        valid_loss = valid_loss / len(val_loader)\n",
        "        valid_losses.append(valid_loss)\n",
        "        valid_acc = valid_acc / len(val_loader)\n",
        "        valid_accs.append(valid_acc)\n",
        "\n",
        "        if valid_losses[-1] < lowest_loss:\n",
        "            lowest_loss = valid_losses[-1]\n",
        "            lowest_epoch = epoch\n",
        "            best_model = deepcopy(model.state_dict())\n",
        "            stop_counter = 0  # Reset the counter if a new best model is found\n",
        "        else:\n",
        "            stop_counter += 1  # Increment the counter if no improvement\n",
        "\n",
        "        if epoch >= early_stop and stop_counter >= early_stop:  # Updated the condition for early stopping\n",
        "            print(\"Early Stopped at Epoch\", epoch)\n",
        "            model.load_state_dict(best_model)\n",
        "            break\n",
        "\n",
        "        if (epoch % progress_interval) == 0:\n",
        "            print(f\"Epoch [{epoch+1}/{n_epochs}], Train Loss: {train_losses[-1]:.4f}, \\\n",
        "            Train Acc: {train_accs[-1]*100:.2f}%, Val Loss: {valid_losses[-1]:.4f}, Val Acc: {valid_accs[-1]*100:.2f}%\")\n",
        "\n",
        "    model.load_state_dict(best_model)\n",
        "    return model, lowest_loss, train_losses, valid_losses, train_accs, valid_accs"
      ]
    },
    {
      "cell_type": "code",
      "execution_count": 78,
      "metadata": {
        "colab": {
          "base_uri": "https://localhost:8080/"
        },
        "id": "sbQBT-hgLFeW",
        "outputId": "10b1a82b-4450-42a7-8cc9-77fce88c4142"
      },
      "outputs": [
        {
          "name": "stdout",
          "output_type": "stream",
          "text": [
            "Epoch [1/10], Step [10/311],                 Train Loss: 1.5055, Train Acc: 45.94%\n",
            "Epoch [1/10], Step [20/311],                 Train Loss: 1.2876, Train Acc: 58.91%\n",
            "Epoch [1/10], Step [30/311],                 Train Loss: 1.1138, Train Acc: 65.83%\n",
            "Epoch [1/10], Step [40/311],                 Train Loss: 1.0016, Train Acc: 68.91%\n",
            "Epoch [1/10], Step [50/311],                 Train Loss: 0.9190, Train Acc: 71.44%\n",
            "Epoch [1/10], Step [60/311],                 Train Loss: 0.8540, Train Acc: 73.07%\n",
            "Epoch [1/10], Step [70/311],                 Train Loss: 0.8045, Train Acc: 74.73%\n",
            "Epoch [1/10], Step [80/311],                 Train Loss: 0.7656, Train Acc: 75.98%\n",
            "Epoch [1/10], Step [90/311],                 Train Loss: 0.7297, Train Acc: 77.26%\n",
            "Epoch [1/10], Step [100/311],                 Train Loss: 0.7005, Train Acc: 78.09%\n",
            "Epoch [1/10], Step [110/311],                 Train Loss: 0.6856, Train Acc: 78.49%\n",
            "Epoch [1/10], Step [120/311],                 Train Loss: 0.6600, Train Acc: 79.48%\n",
            "Epoch [1/10], Step [130/311],                 Train Loss: 0.6413, Train Acc: 80.10%\n",
            "Epoch [1/10], Step [140/311],                 Train Loss: 0.6239, Train Acc: 80.54%\n",
            "Epoch [1/10], Step [150/311],                 Train Loss: 0.6048, Train Acc: 81.06%\n",
            "Epoch [1/10], Step [160/311],                 Train Loss: 0.5855, Train Acc: 81.68%\n",
            "Epoch [1/10], Step [170/311],                 Train Loss: 0.5688, Train Acc: 82.13%\n",
            "Epoch [1/10], Step [180/311],                 Train Loss: 0.5542, Train Acc: 82.55%\n",
            "Epoch [1/10], Step [190/311],                 Train Loss: 0.5427, Train Acc: 82.88%\n",
            "Epoch [1/10], Step [200/311],                 Train Loss: 0.5312, Train Acc: 83.22%\n",
            "Epoch [1/10], Step [210/311],                 Train Loss: 0.5209, Train Acc: 83.51%\n",
            "Epoch [1/10], Step [220/311],                 Train Loss: 0.5095, Train Acc: 83.82%\n",
            "Epoch [1/10], Step [230/311],                 Train Loss: 0.5001, Train Acc: 84.02%\n",
            "Epoch [1/10], Step [240/311],                 Train Loss: 0.4927, Train Acc: 84.23%\n",
            "Epoch [1/10], Step [250/311],                 Train Loss: 0.4836, Train Acc: 84.47%\n",
            "Epoch [1/10], Step [260/311],                 Train Loss: 0.4752, Train Acc: 84.77%\n",
            "Epoch [1/10], Step [270/311],                 Train Loss: 0.4666, Train Acc: 85.02%\n",
            "Epoch [1/10], Step [280/311],                 Train Loss: 0.4596, Train Acc: 85.21%\n",
            "Epoch [1/10], Step [290/311],                 Train Loss: 0.4521, Train Acc: 85.42%\n",
            "Epoch [1/10], Step [300/311],                 Train Loss: 0.4448, Train Acc: 85.62%\n",
            "Epoch [1/10], Step [310/311],                 Train Loss: 0.4397, Train Acc: 85.72%\n",
            "Epoch [1/10], Train Loss: 0.4396,             Train Acc: 85.76%, Val Loss: 0.2318, Val Acc: 92.27%\n",
            "Epoch [2/10], Step [10/311],                 Train Loss: 0.2338, Train Acc: 92.81%\n",
            "Epoch [2/10], Step [20/311],                 Train Loss: 0.2029, Train Acc: 94.06%\n",
            "Epoch [2/10], Step [30/311],                 Train Loss: 0.1937, Train Acc: 94.48%\n",
            "Epoch [2/10], Step [40/311],                 Train Loss: 0.1864, Train Acc: 94.69%\n",
            "Epoch [2/10], Step [50/311],                 Train Loss: 0.1872, Train Acc: 94.50%\n",
            "Epoch [2/10], Step [60/311],                 Train Loss: 0.1827, Train Acc: 94.58%\n",
            "Epoch [2/10], Step [70/311],                 Train Loss: 0.1820, Train Acc: 94.69%\n",
            "Epoch [2/10], Step [80/311],                 Train Loss: 0.1820, Train Acc: 94.69%\n",
            "Epoch [2/10], Step [90/311],                 Train Loss: 0.1810, Train Acc: 94.65%\n",
            "Epoch [2/10], Step [100/311],                 Train Loss: 0.1819, Train Acc: 94.47%\n",
            "Epoch [2/10], Step [110/311],                 Train Loss: 0.1791, Train Acc: 94.52%\n",
            "Epoch [2/10], Step [120/311],                 Train Loss: 0.1811, Train Acc: 94.43%\n",
            "Epoch [2/10], Step [130/311],                 Train Loss: 0.1800, Train Acc: 94.45%\n",
            "Epoch [2/10], Step [140/311],                 Train Loss: 0.1799, Train Acc: 94.44%\n",
            "Epoch [2/10], Step [150/311],                 Train Loss: 0.1769, Train Acc: 94.48%\n",
            "Epoch [2/10], Step [160/311],                 Train Loss: 0.1791, Train Acc: 94.28%\n",
            "Epoch [2/10], Step [170/311],                 Train Loss: 0.1820, Train Acc: 94.19%\n",
            "Epoch [2/10], Step [180/311],                 Train Loss: 0.1814, Train Acc: 94.25%\n",
            "Epoch [2/10], Step [190/311],                 Train Loss: 0.1793, Train Acc: 94.34%\n",
            "Epoch [2/10], Step [200/311],                 Train Loss: 0.1809, Train Acc: 94.31%\n",
            "Epoch [2/10], Step [210/311],                 Train Loss: 0.1798, Train Acc: 94.36%\n",
            "Epoch [2/10], Step [220/311],                 Train Loss: 0.1791, Train Acc: 94.40%\n",
            "Epoch [2/10], Step [230/311],                 Train Loss: 0.1783, Train Acc: 94.35%\n",
            "Epoch [2/10], Step [240/311],                 Train Loss: 0.1794, Train Acc: 94.30%\n",
            "Epoch [2/10], Step [250/311],                 Train Loss: 0.1804, Train Acc: 94.29%\n",
            "Epoch [2/10], Step [260/311],                 Train Loss: 0.1813, Train Acc: 94.27%\n",
            "Epoch [2/10], Step [270/311],                 Train Loss: 0.1805, Train Acc: 94.27%\n",
            "Epoch [2/10], Step [280/311],                 Train Loss: 0.1800, Train Acc: 94.26%\n",
            "Epoch [2/10], Step [290/311],                 Train Loss: 0.1797, Train Acc: 94.22%\n",
            "Epoch [2/10], Step [300/311],                 Train Loss: 0.1780, Train Acc: 94.30%\n",
            "Epoch [2/10], Step [310/311],                 Train Loss: 0.1769, Train Acc: 94.30%\n",
            "Epoch [2/10], Train Loss: 0.1813,             Train Acc: 94.11%, Val Loss: 0.1350, Val Acc: 95.87%\n",
            "Epoch [3/10], Step [10/311],                 Train Loss: 0.0979, Train Acc: 97.19%\n",
            "Epoch [3/10], Step [20/311],                 Train Loss: 0.1062, Train Acc: 97.19%\n",
            "Epoch [3/10], Step [30/311],                 Train Loss: 0.1042, Train Acc: 96.88%\n",
            "Epoch [3/10], Step [40/311],                 Train Loss: 0.1132, Train Acc: 96.64%\n",
            "Epoch [3/10], Step [50/311],                 Train Loss: 0.1087, Train Acc: 96.88%\n",
            "Epoch [3/10], Step [60/311],                 Train Loss: 0.1053, Train Acc: 96.88%\n",
            "Epoch [3/10], Step [70/311],                 Train Loss: 0.1019, Train Acc: 97.10%\n",
            "Epoch [3/10], Step [80/311],                 Train Loss: 0.1029, Train Acc: 97.03%\n",
            "Epoch [3/10], Step [90/311],                 Train Loss: 0.0997, Train Acc: 97.08%\n",
            "Epoch [3/10], Step [100/311],                 Train Loss: 0.0985, Train Acc: 97.00%\n",
            "Epoch [3/10], Step [110/311],                 Train Loss: 0.0978, Train Acc: 96.99%\n",
            "Epoch [3/10], Step [120/311],                 Train Loss: 0.0989, Train Acc: 96.95%\n",
            "Epoch [3/10], Step [130/311],                 Train Loss: 0.0974, Train Acc: 96.97%\n",
            "Epoch [3/10], Step [140/311],                 Train Loss: 0.0956, Train Acc: 97.05%\n",
            "Epoch [3/10], Step [150/311],                 Train Loss: 0.0960, Train Acc: 97.04%\n",
            "Epoch [3/10], Step [160/311],                 Train Loss: 0.0974, Train Acc: 96.95%\n",
            "Epoch [3/10], Step [170/311],                 Train Loss: 0.0961, Train Acc: 97.04%\n",
            "Epoch [3/10], Step [180/311],                 Train Loss: 0.0966, Train Acc: 97.05%\n",
            "Epoch [3/10], Step [190/311],                 Train Loss: 0.0973, Train Acc: 97.04%\n",
            "Epoch [3/10], Step [200/311],                 Train Loss: 0.0959, Train Acc: 97.08%\n",
            "Epoch [3/10], Step [210/311],                 Train Loss: 0.0996, Train Acc: 96.96%\n",
            "Epoch [3/10], Step [220/311],                 Train Loss: 0.0989, Train Acc: 96.99%\n",
            "Epoch [3/10], Step [230/311],                 Train Loss: 0.0995, Train Acc: 96.94%\n",
            "Epoch [3/10], Step [240/311],                 Train Loss: 0.0988, Train Acc: 96.94%\n",
            "Epoch [3/10], Step [250/311],                 Train Loss: 0.0985, Train Acc: 96.92%\n",
            "Epoch [3/10], Step [260/311],                 Train Loss: 0.0984, Train Acc: 96.92%\n",
            "Epoch [3/10], Step [270/311],                 Train Loss: 0.1011, Train Acc: 96.84%\n",
            "Epoch [3/10], Step [280/311],                 Train Loss: 0.1027, Train Acc: 96.77%\n",
            "Epoch [3/10], Step [290/311],                 Train Loss: 0.1027, Train Acc: 96.78%\n",
            "Epoch [3/10], Step [300/311],                 Train Loss: 0.1029, Train Acc: 96.75%\n",
            "Epoch [3/10], Step [310/311],                 Train Loss: 0.1020, Train Acc: 96.75%\n",
            "Epoch [3/10], Train Loss: 0.1037,             Train Acc: 96.66%, Val Loss: 0.1446, Val Acc: 95.28%\n",
            "Epoch [4/10], Step [10/311],                 Train Loss: 0.1062, Train Acc: 96.56%\n",
            "Epoch [4/10], Step [20/311],                 Train Loss: 0.1006, Train Acc: 97.03%\n",
            "Epoch [4/10], Step [30/311],                 Train Loss: 0.0879, Train Acc: 97.40%\n",
            "Epoch [4/10], Step [40/311],                 Train Loss: 0.0859, Train Acc: 97.66%\n",
            "Epoch [4/10], Step [50/311],                 Train Loss: 0.0839, Train Acc: 97.75%\n",
            "Epoch [4/10], Step [60/311],                 Train Loss: 0.0787, Train Acc: 97.86%\n",
            "Epoch [4/10], Step [70/311],                 Train Loss: 0.0824, Train Acc: 97.63%\n",
            "Epoch [4/10], Step [80/311],                 Train Loss: 0.0836, Train Acc: 97.54%\n",
            "Epoch [4/10], Step [90/311],                 Train Loss: 0.0800, Train Acc: 97.60%\n",
            "Epoch [4/10], Step [100/311],                 Train Loss: 0.0803, Train Acc: 97.66%\n",
            "Epoch [4/10], Step [110/311],                 Train Loss: 0.0817, Train Acc: 97.61%\n",
            "Epoch [4/10], Step [120/311],                 Train Loss: 0.0806, Train Acc: 97.60%\n",
            "Epoch [4/10], Step [130/311],                 Train Loss: 0.0806, Train Acc: 97.50%\n",
            "Epoch [4/10], Step [140/311],                 Train Loss: 0.0789, Train Acc: 97.57%\n",
            "Epoch [4/10], Step [150/311],                 Train Loss: 0.0805, Train Acc: 97.46%\n",
            "Epoch [4/10], Step [160/311],                 Train Loss: 0.0793, Train Acc: 97.48%\n",
            "Epoch [4/10], Step [170/311],                 Train Loss: 0.0786, Train Acc: 97.48%\n",
            "Epoch [4/10], Step [180/311],                 Train Loss: 0.0778, Train Acc: 97.50%\n",
            "Epoch [4/10], Step [190/311],                 Train Loss: 0.0789, Train Acc: 97.45%\n",
            "Epoch [4/10], Step [200/311],                 Train Loss: 0.0777, Train Acc: 97.47%\n",
            "Epoch [4/10], Step [210/311],                 Train Loss: 0.0772, Train Acc: 97.49%\n",
            "Epoch [4/10], Step [220/311],                 Train Loss: 0.0780, Train Acc: 97.50%\n",
            "Epoch [4/10], Step [230/311],                 Train Loss: 0.0779, Train Acc: 97.49%\n",
            "Epoch [4/10], Step [240/311],                 Train Loss: 0.0778, Train Acc: 97.49%\n",
            "Epoch [4/10], Step [250/311],                 Train Loss: 0.0775, Train Acc: 97.47%\n",
            "Epoch [4/10], Step [260/311],                 Train Loss: 0.0789, Train Acc: 97.43%\n",
            "Epoch [4/10], Step [270/311],                 Train Loss: 0.0787, Train Acc: 97.47%\n",
            "Epoch [4/10], Step [280/311],                 Train Loss: 0.0803, Train Acc: 97.41%\n",
            "Epoch [4/10], Step [290/311],                 Train Loss: 0.0801, Train Acc: 97.44%\n",
            "Epoch [4/10], Step [300/311],                 Train Loss: 0.0805, Train Acc: 97.40%\n",
            "Epoch [4/10], Step [310/311],                 Train Loss: 0.0803, Train Acc: 97.38%\n",
            "Epoch [4/10], Train Loss: 0.0805,             Train Acc: 97.39%, Val Loss: 0.1056, Val Acc: 95.99%\n",
            "Epoch [5/10], Step [10/311],                 Train Loss: 0.0599, Train Acc: 98.12%\n",
            "Epoch [5/10], Step [20/311],                 Train Loss: 0.0516, Train Acc: 98.44%\n",
            "Epoch [5/10], Step [30/311],                 Train Loss: 0.0541, Train Acc: 98.54%\n",
            "Epoch [5/10], Step [40/311],                 Train Loss: 0.0566, Train Acc: 98.52%\n",
            "Epoch [5/10], Step [50/311],                 Train Loss: 0.0546, Train Acc: 98.62%\n",
            "Epoch [5/10], Step [60/311],                 Train Loss: 0.0515, Train Acc: 98.65%\n",
            "Epoch [5/10], Step [70/311],                 Train Loss: 0.0561, Train Acc: 98.44%\n",
            "Epoch [5/10], Step [80/311],                 Train Loss: 0.0547, Train Acc: 98.48%\n",
            "Epoch [5/10], Step [90/311],                 Train Loss: 0.0545, Train Acc: 98.40%\n",
            "Epoch [5/10], Step [100/311],                 Train Loss: 0.0539, Train Acc: 98.38%\n",
            "Epoch [5/10], Step [110/311],                 Train Loss: 0.0523, Train Acc: 98.41%\n",
            "Epoch [5/10], Step [120/311],                 Train Loss: 0.0526, Train Acc: 98.39%\n",
            "Epoch [5/10], Step [130/311],                 Train Loss: 0.0502, Train Acc: 98.49%\n",
            "Epoch [5/10], Step [140/311],                 Train Loss: 0.0497, Train Acc: 98.50%\n",
            "Epoch [5/10], Step [150/311],                 Train Loss: 0.0492, Train Acc: 98.50%\n",
            "Epoch [5/10], Step [160/311],                 Train Loss: 0.0495, Train Acc: 98.46%\n",
            "Epoch [5/10], Step [170/311],                 Train Loss: 0.0487, Train Acc: 98.49%\n",
            "Epoch [5/10], Step [180/311],                 Train Loss: 0.0493, Train Acc: 98.44%\n",
            "Epoch [5/10], Step [190/311],                 Train Loss: 0.0479, Train Acc: 98.47%\n",
            "Epoch [5/10], Step [200/311],                 Train Loss: 0.0475, Train Acc: 98.47%\n",
            "Epoch [5/10], Step [210/311],                 Train Loss: 0.0472, Train Acc: 98.45%\n",
            "Epoch [5/10], Step [220/311],                 Train Loss: 0.0471, Train Acc: 98.45%\n",
            "Epoch [5/10], Step [230/311],                 Train Loss: 0.0473, Train Acc: 98.44%\n",
            "Epoch [5/10], Step [240/311],                 Train Loss: 0.0469, Train Acc: 98.48%\n",
            "Epoch [5/10], Step [250/311],                 Train Loss: 0.0472, Train Acc: 98.46%\n",
            "Epoch [5/10], Step [260/311],                 Train Loss: 0.0464, Train Acc: 98.49%\n",
            "Epoch [5/10], Step [270/311],                 Train Loss: 0.0469, Train Acc: 98.45%\n",
            "Epoch [5/10], Step [280/311],                 Train Loss: 0.0470, Train Acc: 98.45%\n",
            "Epoch [5/10], Step [290/311],                 Train Loss: 0.0465, Train Acc: 98.46%\n",
            "Epoch [5/10], Step [300/311],                 Train Loss: 0.0466, Train Acc: 98.45%\n",
            "Epoch [5/10], Step [310/311],                 Train Loss: 0.0468, Train Acc: 98.43%\n",
            "Epoch [5/10], Train Loss: 0.0469,             Train Acc: 98.43%, Val Loss: 0.1161, Val Acc: 95.87%\n",
            "Epoch [6/10], Step [10/311],                 Train Loss: 0.0974, Train Acc: 96.88%\n",
            "Epoch [6/10], Step [20/311],                 Train Loss: 0.0662, Train Acc: 97.81%\n",
            "Epoch [6/10], Step [30/311],                 Train Loss: 0.0606, Train Acc: 98.12%\n",
            "Epoch [6/10], Step [40/311],                 Train Loss: 0.0538, Train Acc: 98.44%\n",
            "Epoch [6/10], Step [50/311],                 Train Loss: 0.0512, Train Acc: 98.38%\n",
            "Epoch [6/10], Step [60/311],                 Train Loss: 0.0481, Train Acc: 98.44%\n",
            "Epoch [6/10], Step [70/311],                 Train Loss: 0.0467, Train Acc: 98.48%\n",
            "Epoch [6/10], Step [80/311],                 Train Loss: 0.0481, Train Acc: 98.48%\n",
            "Epoch [6/10], Step [90/311],                 Train Loss: 0.0447, Train Acc: 98.61%\n",
            "Epoch [6/10], Step [100/311],                 Train Loss: 0.0429, Train Acc: 98.66%\n",
            "Epoch [6/10], Step [110/311],                 Train Loss: 0.0431, Train Acc: 98.66%\n",
            "Epoch [6/10], Step [120/311],                 Train Loss: 0.0427, Train Acc: 98.62%\n",
            "Epoch [6/10], Step [130/311],                 Train Loss: 0.0421, Train Acc: 98.65%\n",
            "Epoch [6/10], Step [140/311],                 Train Loss: 0.0421, Train Acc: 98.62%\n",
            "Epoch [6/10], Step [150/311],                 Train Loss: 0.0428, Train Acc: 98.58%\n",
            "Epoch [6/10], Step [160/311],                 Train Loss: 0.0429, Train Acc: 98.57%\n",
            "Epoch [6/10], Step [170/311],                 Train Loss: 0.0426, Train Acc: 98.60%\n",
            "Epoch [6/10], Step [180/311],                 Train Loss: 0.0413, Train Acc: 98.65%\n",
            "Epoch [6/10], Step [190/311],                 Train Loss: 0.0420, Train Acc: 98.60%\n",
            "Epoch [6/10], Step [200/311],                 Train Loss: 0.0430, Train Acc: 98.55%\n",
            "Epoch [6/10], Step [210/311],                 Train Loss: 0.0429, Train Acc: 98.56%\n",
            "Epoch [6/10], Step [220/311],                 Train Loss: 0.0424, Train Acc: 98.59%\n",
            "Epoch [6/10], Step [230/311],                 Train Loss: 0.0423, Train Acc: 98.59%\n",
            "Epoch [6/10], Step [240/311],                 Train Loss: 0.0424, Train Acc: 98.61%\n",
            "Epoch [6/10], Step [250/311],                 Train Loss: 0.0418, Train Acc: 98.62%\n",
            "Epoch [6/10], Step [260/311],                 Train Loss: 0.0420, Train Acc: 98.62%\n",
            "Epoch [6/10], Step [270/311],                 Train Loss: 0.0413, Train Acc: 98.65%\n",
            "Epoch [6/10], Step [280/311],                 Train Loss: 0.0413, Train Acc: 98.65%\n",
            "Epoch [6/10], Step [290/311],                 Train Loss: 0.0411, Train Acc: 98.65%\n",
            "Epoch [6/10], Step [300/311],                 Train Loss: 0.0407, Train Acc: 98.67%\n",
            "Epoch [6/10], Step [310/311],                 Train Loss: 0.0401, Train Acc: 98.69%\n",
            "Epoch [6/10], Train Loss: 0.0401,             Train Acc: 98.69%, Val Loss: 0.1051, Val Acc: 96.79%\n",
            "Epoch [7/10], Step [10/311],                 Train Loss: 0.0257, Train Acc: 99.06%\n",
            "Epoch [7/10], Step [20/311],                 Train Loss: 0.0329, Train Acc: 98.91%\n",
            "Epoch [7/10], Step [30/311],                 Train Loss: 0.0318, Train Acc: 98.85%\n",
            "Epoch [7/10], Step [40/311],                 Train Loss: 0.0276, Train Acc: 99.14%\n",
            "Epoch [7/10], Step [50/311],                 Train Loss: 0.0280, Train Acc: 99.19%\n",
            "Epoch [7/10], Step [60/311],                 Train Loss: 0.0275, Train Acc: 99.17%\n",
            "Epoch [7/10], Step [70/311],                 Train Loss: 0.0256, Train Acc: 99.24%\n",
            "Epoch [7/10], Step [80/311],                 Train Loss: 0.0261, Train Acc: 99.18%\n",
            "Epoch [7/10], Step [90/311],                 Train Loss: 0.0251, Train Acc: 99.24%\n",
            "Epoch [7/10], Step [100/311],                 Train Loss: 0.0301, Train Acc: 99.03%\n",
            "Epoch [7/10], Step [110/311],                 Train Loss: 0.0310, Train Acc: 99.01%\n",
            "Epoch [7/10], Step [120/311],                 Train Loss: 0.0307, Train Acc: 99.04%\n",
            "Epoch [7/10], Step [130/311],                 Train Loss: 0.0307, Train Acc: 98.99%\n",
            "Epoch [7/10], Step [140/311],                 Train Loss: 0.0304, Train Acc: 99.00%\n",
            "Epoch [7/10], Step [150/311],                 Train Loss: 0.0294, Train Acc: 99.04%\n",
            "Epoch [7/10], Step [160/311],                 Train Loss: 0.0303, Train Acc: 99.00%\n",
            "Epoch [7/10], Step [170/311],                 Train Loss: 0.0302, Train Acc: 99.03%\n",
            "Epoch [7/10], Step [180/311],                 Train Loss: 0.0304, Train Acc: 99.03%\n",
            "Epoch [7/10], Step [190/311],                 Train Loss: 0.0318, Train Acc: 98.98%\n",
            "Epoch [7/10], Step [200/311],                 Train Loss: 0.0326, Train Acc: 98.98%\n",
            "Epoch [7/10], Step [210/311],                 Train Loss: 0.0330, Train Acc: 98.99%\n",
            "Epoch [7/10], Step [220/311],                 Train Loss: 0.0342, Train Acc: 98.93%\n",
            "Epoch [7/10], Step [230/311],                 Train Loss: 0.0336, Train Acc: 98.95%\n",
            "Epoch [7/10], Step [240/311],                 Train Loss: 0.0335, Train Acc: 98.95%\n",
            "Epoch [7/10], Step [250/311],                 Train Loss: 0.0337, Train Acc: 98.91%\n",
            "Epoch [7/10], Step [260/311],                 Train Loss: 0.0339, Train Acc: 98.88%\n",
            "Epoch [7/10], Step [270/311],                 Train Loss: 0.0333, Train Acc: 98.91%\n",
            "Epoch [7/10], Step [280/311],                 Train Loss: 0.0336, Train Acc: 98.88%\n",
            "Epoch [7/10], Step [290/311],                 Train Loss: 0.0339, Train Acc: 98.86%\n",
            "Epoch [7/10], Step [300/311],                 Train Loss: 0.0345, Train Acc: 98.83%\n",
            "Epoch [7/10], Step [310/311],                 Train Loss: 0.0343, Train Acc: 98.83%\n",
            "Epoch [7/10], Train Loss: 0.0371,             Train Acc: 98.73%, Val Loss: 0.1351, Val Acc: 95.32%\n",
            "Epoch [8/10], Step [10/311],                 Train Loss: 0.0688, Train Acc: 97.81%\n",
            "Epoch [8/10], Step [20/311],                 Train Loss: 0.0822, Train Acc: 97.81%\n",
            "Epoch [8/10], Step [30/311],                 Train Loss: 0.0827, Train Acc: 97.60%\n",
            "Epoch [8/10], Step [40/311],                 Train Loss: 0.0805, Train Acc: 97.73%\n",
            "Epoch [8/10], Step [50/311],                 Train Loss: 0.0740, Train Acc: 98.06%\n",
            "Epoch [8/10], Step [60/311],                 Train Loss: 0.0749, Train Acc: 97.76%\n",
            "Epoch [8/10], Step [70/311],                 Train Loss: 0.0733, Train Acc: 97.77%\n",
            "Epoch [8/10], Step [80/311],                 Train Loss: 0.0691, Train Acc: 97.89%\n",
            "Epoch [8/10], Step [90/311],                 Train Loss: 0.0689, Train Acc: 97.88%\n",
            "Epoch [8/10], Step [100/311],                 Train Loss: 0.0665, Train Acc: 97.94%\n",
            "Epoch [8/10], Step [110/311],                 Train Loss: 0.0644, Train Acc: 98.07%\n",
            "Epoch [8/10], Step [120/311],                 Train Loss: 0.0621, Train Acc: 98.18%\n",
            "Epoch [8/10], Step [130/311],                 Train Loss: 0.0614, Train Acc: 98.10%\n",
            "Epoch [8/10], Step [140/311],                 Train Loss: 0.0589, Train Acc: 98.17%\n",
            "Epoch [8/10], Step [150/311],                 Train Loss: 0.0573, Train Acc: 98.23%\n",
            "Epoch [8/10], Step [160/311],                 Train Loss: 0.0548, Train Acc: 98.32%\n",
            "Epoch [8/10], Step [170/311],                 Train Loss: 0.0531, Train Acc: 98.36%\n",
            "Epoch [8/10], Step [180/311],                 Train Loss: 0.0524, Train Acc: 98.33%\n",
            "Epoch [8/10], Step [190/311],                 Train Loss: 0.0518, Train Acc: 98.34%\n",
            "Epoch [8/10], Step [200/311],                 Train Loss: 0.0518, Train Acc: 98.34%\n",
            "Epoch [8/10], Step [210/311],                 Train Loss: 0.0509, Train Acc: 98.38%\n",
            "Epoch [8/10], Step [220/311],                 Train Loss: 0.0492, Train Acc: 98.44%\n",
            "Epoch [8/10], Step [230/311],                 Train Loss: 0.0491, Train Acc: 98.41%\n",
            "Epoch [8/10], Step [240/311],                 Train Loss: 0.0499, Train Acc: 98.35%\n",
            "Epoch [8/10], Step [250/311],                 Train Loss: 0.0499, Train Acc: 98.34%\n",
            "Epoch [8/10], Step [260/311],                 Train Loss: 0.0496, Train Acc: 98.33%\n",
            "Epoch [8/10], Step [270/311],                 Train Loss: 0.0498, Train Acc: 98.32%\n",
            "Epoch [8/10], Step [280/311],                 Train Loss: 0.0506, Train Acc: 98.28%\n",
            "Epoch [8/10], Step [290/311],                 Train Loss: 0.0507, Train Acc: 98.29%\n",
            "Epoch [8/10], Step [300/311],                 Train Loss: 0.0513, Train Acc: 98.28%\n",
            "Epoch [8/10], Step [310/311],                 Train Loss: 0.0506, Train Acc: 98.31%\n",
            "Epoch [8/10], Train Loss: 0.0506,             Train Acc: 98.31%, Val Loss: 0.1026, Val Acc: 96.79%\n",
            "Epoch [9/10], Step [10/311],                 Train Loss: 0.0149, Train Acc: 100.00%\n",
            "Epoch [9/10], Step [20/311],                 Train Loss: 0.0349, Train Acc: 99.38%\n",
            "Epoch [9/10], Step [30/311],                 Train Loss: 0.0364, Train Acc: 99.27%\n",
            "Epoch [9/10], Step [40/311],                 Train Loss: 0.0375, Train Acc: 98.98%\n",
            "Epoch [9/10], Step [50/311],                 Train Loss: 0.0410, Train Acc: 98.81%\n",
            "Epoch [9/10], Step [60/311],                 Train Loss: 0.0381, Train Acc: 98.91%\n",
            "Epoch [9/10], Step [70/311],                 Train Loss: 0.0379, Train Acc: 98.97%\n",
            "Epoch [9/10], Step [80/311],                 Train Loss: 0.0359, Train Acc: 98.95%\n",
            "Epoch [9/10], Step [90/311],                 Train Loss: 0.0342, Train Acc: 98.96%\n",
            "Epoch [9/10], Step [100/311],                 Train Loss: 0.0321, Train Acc: 99.00%\n",
            "Epoch [9/10], Step [110/311],                 Train Loss: 0.0309, Train Acc: 99.03%\n",
            "Epoch [9/10], Step [120/311],                 Train Loss: 0.0296, Train Acc: 99.06%\n",
            "Epoch [9/10], Step [130/311],                 Train Loss: 0.0298, Train Acc: 99.01%\n",
            "Epoch [9/10], Step [140/311],                 Train Loss: 0.0287, Train Acc: 99.08%\n",
            "Epoch [9/10], Step [150/311],                 Train Loss: 0.0285, Train Acc: 99.06%\n",
            "Epoch [9/10], Step [160/311],                 Train Loss: 0.0276, Train Acc: 99.10%\n",
            "Epoch [9/10], Step [170/311],                 Train Loss: 0.0271, Train Acc: 99.10%\n",
            "Epoch [9/10], Step [180/311],                 Train Loss: 0.0272, Train Acc: 99.08%\n",
            "Epoch [9/10], Step [190/311],                 Train Loss: 0.0267, Train Acc: 99.11%\n",
            "Epoch [9/10], Step [200/311],                 Train Loss: 0.0265, Train Acc: 99.11%\n",
            "Epoch [9/10], Step [210/311],                 Train Loss: 0.0260, Train Acc: 99.11%\n",
            "Epoch [9/10], Step [220/311],                 Train Loss: 0.0270, Train Acc: 99.05%\n",
            "Epoch [9/10], Step [230/311],                 Train Loss: 0.0263, Train Acc: 99.09%\n",
            "Epoch [9/10], Step [240/311],                 Train Loss: 0.0264, Train Acc: 99.06%\n",
            "Epoch [9/10], Step [250/311],                 Train Loss: 0.0265, Train Acc: 99.08%\n",
            "Epoch [9/10], Step [260/311],                 Train Loss: 0.0265, Train Acc: 99.07%\n",
            "Epoch [9/10], Step [270/311],                 Train Loss: 0.0264, Train Acc: 99.09%\n",
            "Epoch [9/10], Step [280/311],                 Train Loss: 0.0264, Train Acc: 99.11%\n",
            "Epoch [9/10], Step [290/311],                 Train Loss: 0.0258, Train Acc: 99.13%\n",
            "Epoch [9/10], Step [300/311],                 Train Loss: 0.0262, Train Acc: 99.09%\n",
            "Epoch [9/10], Step [310/311],                 Train Loss: 0.0260, Train Acc: 99.09%\n",
            "Epoch [9/10], Train Loss: 0.0260,             Train Acc: 99.10%, Val Loss: 0.1318, Val Acc: 95.92%\n",
            "Epoch [10/10], Step [10/311],                 Train Loss: 0.0265, Train Acc: 99.38%\n",
            "Epoch [10/10], Step [20/311],                 Train Loss: 0.0242, Train Acc: 99.22%\n",
            "Epoch [10/10], Step [30/311],                 Train Loss: 0.0257, Train Acc: 99.06%\n",
            "Epoch [10/10], Step [40/311],                 Train Loss: 0.0231, Train Acc: 99.14%\n",
            "Epoch [10/10], Step [50/311],                 Train Loss: 0.0237, Train Acc: 99.06%\n",
            "Epoch [10/10], Step [60/311],                 Train Loss: 0.0228, Train Acc: 99.17%\n",
            "Epoch [10/10], Step [70/311],                 Train Loss: 0.0254, Train Acc: 99.02%\n",
            "Epoch [10/10], Step [80/311],                 Train Loss: 0.0229, Train Acc: 99.14%\n",
            "Epoch [10/10], Step [90/311],                 Train Loss: 0.0214, Train Acc: 99.20%\n",
            "Epoch [10/10], Step [100/311],                 Train Loss: 0.0220, Train Acc: 99.22%\n",
            "Epoch [10/10], Step [110/311],                 Train Loss: 0.0245, Train Acc: 99.09%\n",
            "Epoch [10/10], Step [120/311],                 Train Loss: 0.0237, Train Acc: 99.14%\n",
            "Epoch [10/10], Step [130/311],                 Train Loss: 0.0235, Train Acc: 99.16%\n",
            "Epoch [10/10], Step [140/311],                 Train Loss: 0.0236, Train Acc: 99.17%\n",
            "Epoch [10/10], Step [150/311],                 Train Loss: 0.0252, Train Acc: 99.10%\n",
            "Epoch [10/10], Step [160/311],                 Train Loss: 0.0247, Train Acc: 99.12%\n",
            "Epoch [10/10], Step [170/311],                 Train Loss: 0.0250, Train Acc: 99.12%\n",
            "Epoch [10/10], Step [180/311],                 Train Loss: 0.0250, Train Acc: 99.13%\n",
            "Epoch [10/10], Step [190/311],                 Train Loss: 0.0248, Train Acc: 99.13%\n",
            "Epoch [10/10], Step [200/311],                 Train Loss: 0.0239, Train Acc: 99.17%\n",
            "Epoch [10/10], Step [210/311],                 Train Loss: 0.0239, Train Acc: 99.18%\n",
            "Epoch [10/10], Step [220/311],                 Train Loss: 0.0235, Train Acc: 99.20%\n",
            "Epoch [10/10], Step [230/311],                 Train Loss: 0.0235, Train Acc: 99.21%\n",
            "Epoch [10/10], Step [240/311],                 Train Loss: 0.0248, Train Acc: 99.19%\n",
            "Epoch [10/10], Step [250/311],                 Train Loss: 0.0250, Train Acc: 99.19%\n",
            "Epoch [10/10], Step [260/311],                 Train Loss: 0.0265, Train Acc: 99.15%\n",
            "Epoch [10/10], Step [270/311],                 Train Loss: 0.0260, Train Acc: 99.17%\n",
            "Epoch [10/10], Step [280/311],                 Train Loss: 0.0266, Train Acc: 99.14%\n",
            "Epoch [10/10], Step [290/311],                 Train Loss: 0.0272, Train Acc: 99.13%\n",
            "Epoch [10/10], Step [300/311],                 Train Loss: 0.0271, Train Acc: 99.15%\n",
            "Epoch [10/10], Step [310/311],                 Train Loss: 0.0271, Train Acc: 99.14%\n",
            "Epoch [10/10], Train Loss: 0.0271,             Train Acc: 99.15%, Val Loss: 0.1125, Val Acc: 96.96%\n"
          ]
        }
      ],
      "source": [
        "import torch.optim as optim\n",
        "\n",
        "model = AudioModel(num_classes)\n",
        "# Define the loss function and optimizer\n",
        "optimizer = torch.optim.Adam(model.parameters(), lr=1e-4)\n",
        "loss_func = nn.CrossEntropyLoss()\n",
        "\n",
        "# Train the model\n",
        "n_epochs = 10\n",
        "early_stop = 5\n",
        "progress_interval = 1\n",
        "\n",
        "y_true, y_pred = [], []\n",
        "trained_model, lowest_loss, train_losses, valid_losses, train_accs, valid_accs = train_model(model, train_loader, val_loader, optimizer, loss_func, early_stop, n_epochs, progress_interval, device)"
      ]
    },
    {
      "cell_type": "code",
      "execution_count": 79,
      "metadata": {
        "id": "-RXSpG4LOhW3"
      },
      "outputs": [],
      "source": [
        "from sklearn.metrics import confusion_matrix\n",
        "\n",
        "cm = confusion_matrix(y_true, y_pred)"
      ]
    },
    {
      "cell_type": "code",
      "execution_count": 80,
      "metadata": {
        "colab": {
          "base_uri": "https://localhost:8080/"
        },
        "id": "0xBxAheiOlXC",
        "outputId": "e85453d6-7df3-4677-db03-b7490614c6fd"
      },
      "outputs": [
        {
          "data": {
            "text/plain": [
              "array([[18165,    59,    21,    46,    37,    32],\n",
              "       [   34,  1048,    34,    39,    42,    33],\n",
              "       [    2,     1,  1017,    77,    93,     0],\n",
              "       [   15,    12,    71,  1097,   105,    20],\n",
              "       [   35,     6,    42,    64,  1146,    27],\n",
              "       [   22,    27,    13,    15,    45,  1268]])"
            ]
          },
          "execution_count": 80,
          "metadata": {},
          "output_type": "execute_result"
        }
      ],
      "source": [
        "cm"
      ]
    },
    {
      "cell_type": "code",
      "execution_count": 81,
      "metadata": {
        "colab": {
          "base_uri": "https://localhost:8080/"
        },
        "id": "jIcP2aKdOl3_",
        "outputId": "0a213166-f467-4018-af9d-2a75b085a2c0"
      },
      "outputs": [
        {
          "name": "stdout",
          "output_type": "stream",
          "text": [
            "F1 score: 0.88\n"
          ]
        }
      ],
      "source": [
        "from sklearn.metrics import f1_score\n",
        "\n",
        "# Compute the F1 score\n",
        "f1 = f1_score(y_true, y_pred, average='macro')\n",
        "\n",
        "print('F1 score: %.2f' % f1)"
      ]
    },
    {
      "cell_type": "code",
      "execution_count": 82,
      "metadata": {
        "colab": {
          "base_uri": "https://localhost:8080/"
        },
        "id": "jlRcAQLHOpXU",
        "outputId": "2b26988e-70e7-46ea-c7d0-8f9044942d65"
      },
      "outputs": [
        {
          "name": "stdout",
          "output_type": "stream",
          "text": [
            "Training accuracy: 99.15%, Validation accuracy: 96.96%\n",
            "Training loss: 0.0271, Validation loss: 0.1125\n"
          ]
        }
      ],
      "source": [
        "print(f\"Training accuracy: {train_accs[-1]*100:.2f}%, Validation accuracy: {valid_accs[-1]*100:.2f}%\")\n",
        "print(f\"Training loss: {train_losses[-1]:.4f}, Validation loss: {valid_losses[-1]:.4f}\")\n"
      ]
    },
    {
      "cell_type": "code",
      "execution_count": 83,
      "metadata": {
        "colab": {
          "base_uri": "https://localhost:8080/",
          "height": 445
        },
        "id": "zd0ftIbjOtr2",
        "outputId": "4ecb1dcd-77e5-47e8-e30d-1e2ed978c35b"
      },
      "outputs": [
        {
          "data": {
            "image/png": "[encoded data removed]",
            "text/plain": [
              "<Figure size 640x480 with 1 Axes>"
            ]
          },
          "metadata": {},
          "output_type": "display_data"
        }
      ],
      "source": [
        "import matplotlib.pyplot as plt\n",
        "\n",
        "plt.plot(train_accs, label='Training accuracy')\n",
        "plt.plot(valid_accs, label='Validation accuracy')\n",
        "plt.xlabel('Epoch')\n",
        "plt.ylabel('Accuracy')\n",
        "plt.legend()\n",
        "plt.show()"
      ]
    },
    {
      "cell_type": "code",
      "execution_count": 84,
      "metadata": {
        "colab": {
          "base_uri": "https://localhost:8080/",
          "height": 445
        },
        "id": "qaa6-iotOxQ5",
        "outputId": "a0b59dff-c1c6-4040-8c24-1e8ba26df813"
      },
      "outputs": [
        {
          "data": {
            "image/png": "[encoded data removed]",
            "text/plain": [
              "<Figure size 640x480 with 1 Axes>"
            ]
          },
          "metadata": {},
          "output_type": "display_data"
        }
      ],
      "source": [
        "import matplotlib.pyplot as plt\n",
        "\n",
        "plt.plot(train_losses, label='Training Loss')\n",
        "plt.plot(valid_losses, label='Validation Loss')\n",
        "plt.xlabel('Epoch')\n",
        "plt.ylabel('Loss')\n",
        "plt.legend()\n",
        "plt.show()"
      ]
    },
    {
      "cell_type": "markdown",
      "metadata": {
        "id": "bkjErGjHk2cY"
      },
      "source": [
        "### test"
      ]
    },
    {
      "cell_type": "code",
      "execution_count": 87,
      "metadata": {
        "colab": {
          "base_uri": "https://localhost:8080/"
        },
        "id": "_4pDIM5mPkks",
        "outputId": "506afa62-cc0b-4eee-cbe9-f9815584c87b"
      },
      "outputs": [
        {
          "name": "stdout",
          "output_type": "stream",
          "text": [
            "2401\n",
            "2481\n",
            "Validation accuracy: 96.78 %\n"
          ]
        }
      ],
      "source": [
        "# Set the model to evaluation mode\n",
        "trained_model.eval()\n",
        "\n",
        "# Initialize the correct and total predictions counters\n",
        "correct_predictions = 0\n",
        "total_predictions = 0\n",
        "y_true, y_pred = [], []\n",
        "# Loop over the validation data loader\n",
        "for inputs, labels in val_loader:\n",
        "    # Move the inputs and labels to the device\n",
        "    inputs = inputs.to(device)\n",
        "    labels = labels.to(device)\n",
        "\n",
        "    # Compute the predicted outputs\n",
        "    with torch.no_grad():\n",
        "        outputs = trained_model(inputs)\n",
        "\n",
        "    # Get the predicted labels\n",
        "    _, predicted_labels = torch.max(outputs.data, 1)\n",
        "    y_true.extend(labels.cpu().numpy())\n",
        "    y_pred.extend(predicted_labels.cpu().numpy())\n",
        "    \n",
        "    # Update the counters\n",
        "    total_predictions += labels.size(0)\n",
        "    correct_predictions += (predicted_labels == labels).sum().item()\n",
        "\n",
        "# Compute the validation accuracy\n",
        "val_accuracy = 100.0 * correct_predictions / total_predictions\n",
        "\n",
        "print(correct_predictions)\n",
        "print(total_predictions)\n",
        "print('Validation accuracy: %.2f %%' % val_accuracy)"
      ]
    },
    {
      "cell_type": "code",
      "execution_count": 88,
      "metadata": {
        "colab": {
          "base_uri": "https://localhost:8080/"
        },
        "id": "VFAeOKiWPxjS",
        "outputId": "2d8fec47-ac6a-4a31-ae1a-da1e3a1385fd"
      },
      "outputs": [
        {
          "name": "stdout",
          "output_type": "stream",
          "text": [
            "F1 score: 0.91\n"
          ]
        }
      ],
      "source": [
        "from sklearn.metrics import f1_score\n",
        "\n",
        "# Compute the F1 score\n",
        "f1 = f1_score(y_true, y_pred, average='macro')\n",
        "\n",
        "print('F1 score: %.2f' % f1)"
      ]
    },
    {
      "cell_type": "code",
      "execution_count": 89,
      "metadata": {
        "colab": {
          "base_uri": "https://localhost:8080/"
        },
        "id": "A4X4J0eYP1kp",
        "outputId": "d0f4df79-48d6-45df-8bbc-a2564a545214"
      },
      "outputs": [
        {
          "data": {
            "text/plain": [
              "array([[1820,    5,    5,    3,    1,    2],\n",
              "       [   2,  113,    2,    2,    2,    2],\n",
              "       [   0,    0,  106,    6,    7,    0],\n",
              "       [   0,    0,    5,  117,    9,    1],\n",
              "       [   4,    0,    4,    3,  120,    1],\n",
              "       [   2,    9,    1,    0,    2,  125]])"
            ]
          },
          "execution_count": 89,
          "metadata": {},
          "output_type": "execute_result"
        }
      ],
      "source": [
        "from sklearn.metrics import confusion_matrix\n",
        "\n",
        "# Generate the confusion matrix\n",
        "cm = confusion_matrix(y_true, y_pred)\n",
        "\n",
        "cm"
      ]
    },
    {
      "cell_type": "markdown",
      "metadata": {
        "id": "SxOg4g-Akwea"
      },
      "source": [
        "### save the model"
      ]
    },
    {
      "cell_type": "code",
      "execution_count": 85,
      "metadata": {
        "colab": {
          "base_uri": "https://localhost:8080/"
        },
        "id": "lKn0aJgvX2X-",
        "outputId": "23c56e05-98a3-4172-f420-95dfb642e084"
      },
      "outputs": [
        {
          "name": "stdout",
          "output_type": "stream",
          "text": [
            "Drive already mounted at /content/drive; to attempt to forcibly remount, call drive.mount(\"/content/drive\", force_remount=True).\n"
          ]
        }
      ],
      "source": [
        "from google.colab import drive\n",
        "drive.mount('/content/drive')"
      ]
    },
    {
      "cell_type": "code",
      "execution_count": 86,
      "metadata": {
        "id": "6rJrbWniPfkg"
      },
      "outputs": [],
      "source": [
        "# Define the file path for the saved model\n",
        "# save_path = '/content/drive/MyDrive/졸플/Audio/output_128/pytorch_cnn.pt'\n",
        "save_path = '/content/drive/MyDrive/졸플/Audio/output_128/pytorch_ff_densenet_label6.pt'\n",
        "\n",
        "# Save the trained model\n",
        "# torch.save(trained_model.state_dict(), save_path)\n",
        "torch.save({\n",
        "            'model_state_dict': trained_model.state_dict(),\n",
        "            'optimizer_state_dict': optimizer.state_dict()\n",
        "            }, save_path)"
      ]
    },
    {
      "cell_type": "markdown",
      "metadata": {
        "id": "4Y10wldboiiM"
      },
      "source": [
        "# Test with wav"
      ]
    },
    {
      "cell_type": "code",
      "execution_count": null,
      "metadata": {
        "id": "rlXEaBO4kuj6"
      },
      "outputs": [],
      "source": [
        "from google.colab import drive\n",
        "drive.mount('/content/drive')"
      ]
    },
    {
      "cell_type": "code",
      "execution_count": 100,
      "metadata": {
        "id": "NdVzJRN2elle"
      },
      "outputs": [],
      "source": [
        "import timm\n",
        "\n",
        "# densenet\n",
        "class AudioModel(nn.Module):\n",
        "    '''\n",
        "    in_chans 파라미터는 입력 데이터의 채널 수를 나타냅니다.\n",
        "    각각의 특징(STFT, Mel-spectrogram, MFCC)이 수직 방향으로 연결되므로, 데이터의 채널 수는 1이 됩니다. 이 경우, in_chans 파라미터 값으로 1을 사용해야 합니다.\n",
        "    '''\n",
        "    def __init__(self,\n",
        "                 num_classes,\n",
        "                 model_name='densenet121',\n",
        "                 pretrained=True):\n",
        "        super(AudioModel, self).__init__()\n",
        "\n",
        "        self.model = timm.create_model(model_name,\n",
        "                                       pretrained=pretrained,\n",
        "                                       in_chans=1)\n",
        "        self.in_features = self.model.classifier.in_features\n",
        "        self.model.classifier = nn.Sequential(\n",
        "            nn.Linear(self.in_features, num_classes)\n",
        "        )\n",
        "\n",
        "    def forward(self, images):\n",
        "        logits = self.model(images)\n",
        "        return logits"
      ]
    },
    {
      "cell_type": "code",
      "execution_count": 101,
      "metadata": {
        "id": "uNCUpuXjwYWy"
      },
      "outputs": [],
      "source": [
        "import librosa\n",
        "import numpy as np\n",
        "\n",
        "import torch\n",
        "from torchvision.models.resnet import ResNet, BasicBlock\n",
        "import torch.nn as nn\n",
        "import torch.nn.functional as F\n",
        "from PIL import Image\n",
        "from skimage.transform import resize\n",
        "\n",
        "\n",
        "# Define the path to the saved model\n",
        "model_path = '/content/drive/MyDrive/졸플/Audio/output_128/pytorch_ff_densenet_label6.pt'\n",
        "\n",
        "# Load the saved model\n",
        "checkpoint = torch.load(model_path)\n",
        "model = AudioModel(num_classes=6)\n",
        "model.load_state_dict(checkpoint['model_state_dict'])\n",
        "\n",
        "num_classes = 6\n",
        "label_names = ['regular', 'help', 'robbery', 'sexual', 'theft', 'violence']\n",
        "\n",
        "# Define the device\n",
        "device = torch.device('cuda' if torch.cuda.is_available() else 'cpu')\n",
        "# device = torch.device('cpu')\n",
        "# Move the model to the device\n",
        "model.to(device)"
      ]
    },
    {
      "cell_type": "code",
      "execution_count": 106,
      "metadata": {
        "id": "AscSOPhZfE-i"
      },
      "outputs": [],
      "source": [
        "def predict_audio(audio_file, model, label_names, device,\n",
        "                  sr=44100, n_fft=1024, hop_length=1024,\n",
        "                  n_mels=128, n_mfcc=48, input_shape=(64, 64)):\n",
        "  \n",
        "    # Load the audio data\n",
        "    audio_data, sr = librosa.load(audio_file, sr=sr)\n",
        "    \n",
        "    # Extract features\n",
        "    stft = np.abs(librosa.stft(audio_data, n_fft=n_fft, hop_length=hop_length))\n",
        "    melspec = librosa.feature.melspectrogram(y=audio_data, sr=sr, n_fft=n_fft, hop_length=hop_length, n_mels=n_mels)\n",
        "    mfcc = librosa.feature.mfcc(S=librosa.power_to_db(melspec), sr=sr, n_mfcc=n_mfcc)\n",
        "\n",
        "    # Normalize Mel-spectrogram\n",
        "    melspec_mean = np.mean(melspec)\n",
        "    melspec_std = np.std(melspec)\n",
        "    melspec_std += 1e-8  # Add a small value to avoid division by zero\n",
        "    melspec_norm = (melspec - melspec_mean) / melspec_std\n",
        "\n",
        "    # Normalize MFCC\n",
        "    mfcc_mean = np.mean(mfcc)\n",
        "    mfcc_std = np.std(mfcc)\n",
        "    mfcc_std += 1e-8  # Add a small value to avoid division by zero\n",
        "    mfcc_norm = (mfcc - mfcc_mean) / mfcc_std\n",
        "\n",
        "    # Resize each feature to the specified input_shape\n",
        "    stft_resized = resize(stft, input_shape)\n",
        "    melspec_norm_resized = resize(melspec_norm, input_shape)\n",
        "    mfcc_norm_resized = resize(mfcc_norm, input_shape)\n",
        "\n",
        "    # Concatenate the features\n",
        "    features = np.concatenate((stft_resized, melspec_norm_resized, mfcc_norm_resized), axis=0)\n",
        "\n",
        "    # Convert the features to a PyTorch tensor and add batch and channel dimensions\n",
        "    sample = torch.tensor(features).float().unsqueeze(0).unsqueeze(0).to(device)\n",
        "\n",
        "    # Move the model to evaluation mode\n",
        "    model.eval()\n",
        "\n",
        "    # Make a prediction\n",
        "    with torch.no_grad():\n",
        "        output = model(sample)\n",
        "        # probabilities = F.softmax(output, dim=1)\n",
        "        predicted_label = torch.argmax(output, dim=1).item()\n",
        "        predicted_feature= output\n",
        "\n",
        "    return label_names[predicted_label], predicted_feature"
      ]
    },
    {
      "cell_type": "code",
      "execution_count": 103,
      "metadata": {
        "colab": {
          "base_uri": "https://localhost:8080/"
        },
        "id": "M2IgWJmSjqQq",
        "outputId": "94b3c13c-bc0f-43fd-94f7-80e7cf58189c"
      },
      "outputs": [
        {
          "name": "stdout",
          "output_type": "stream",
          "text": [
            "total 32732\n",
            "-rw------- 1 root root 1003598 Apr 29 10:27  20.여기좀도와주세요.wav\n",
            "-rw------- 1 root root  660428 Apr 19 07:39  output.wav\n",
            "-rw------- 1 root root  528352 Apr 19 07:34 '1.강제추행(성범죄)_18300_label.wav'\n",
            "-rw------- 1 root root  401486 Apr 17 13:05 '만지지마세요(남성)-위급.wav'\n",
            "-rw------- 1 root root  532558 Apr 17 13:05 '만지지마(남성) 장난.wav'\n",
            "-rw------- 1 root root  732582 Apr 17 12:48  만지지마세요_차분.wav\n",
            "-rw------- 1 root root  749514 Apr 17 12:47  만지지마세요_하이톤.wav\n",
            "-rw------- 1 root root  617478 Mar 27 09:05  실외_소리.wav\n",
            "-rw------- 1 root root  586522 Mar 26 14:32  살려주세요2.wav\n",
            "-rw------- 1 root root  944262 Mar 26 14:12  16.정상_추가1.wav\n",
            "-rw------- 1 root root  944262 Mar 26 14:12  20.정상_오늘날씨가너무좋아밖에나가자.wav\n",
            "-rw------- 1 root root  917582 Mar 16 14:56  baby-sexual.wav\n",
            "-rw------- 1 root root  917582 Feb 27 08:12  유아-성추행.wav\n",
            "-rw------- 1 root root 1003598 Feb 26 05:53  유투브-도와주세요.wav\n",
            "-rw------- 1 root root  548468 Mar 24  2021  14.도움요청_1038039_label.wav\n",
            "-rw------- 1 root root  195624 Mar 24  2021  제발그만때려요.wav\n",
            "-rw------- 1 root root 5468444 Mar 24  2021  15.실내_675413_label.wav\n",
            "-rw------- 1 root root 5468444 Mar 24  2021  식당소리.wav\n",
            "-rw------- 1 root root 5644844 Mar 24  2021  15.실내_675493_label.wav\n",
            "-rw------- 1 root root 5644844 Mar 24  2021 '밖에서 걷는 소리.wav'\n"
          ]
        }
      ],
      "source": [
        "!ls -lt /content/drive/MyDrive/졸플/Audio/test"
      ]
    },
    {
      "cell_type": "code",
      "execution_count": 117,
      "metadata": {
        "id": "GmcnvWjujpzt"
      },
      "outputs": [],
      "source": [
        "audio_file1 = '/content/drive/MyDrive/졸플/Audio/test/만지지마(남성) 장난.wav'\n",
        "audio_file2 = '/content/drive/MyDrive/졸플/Audio/test/만지지마세요_하이톤.wav'"
      ]
    },
    {
      "cell_type": "code",
      "execution_count": 118,
      "metadata": {
        "colab": {
          "base_uri": "https://localhost:8080/"
        },
        "id": "3_8YuQeJqbHU",
        "outputId": "8800893a-fd5f-424c-926d-7202c8a08125"
      },
      "outputs": [
        {
          "name": "stdout",
          "output_type": "stream",
          "text": [
            "Audio file 1: /content/drive/MyDrive/졸플/Audio/test/만지지마(남성) 장난.wav\n",
            "Predicted label: robbery\n",
            "Probability: tensor([[-0.1618, -0.2095,  0.0732, -2.7186, -2.2530, -0.9823]],\n",
            "       device='cuda:0')\n",
            "\n",
            "Audio file 2: /content/drive/MyDrive/졸플/Audio/test/만지지마세요_하이톤.wav\n",
            "Predicted label: help\n",
            "Probability: tensor([[-1.4645,  2.2545, -3.3472, -0.7272, -5.3757,  1.4412]],\n",
            "       device='cuda:0')\n",
            "\n"
          ]
        }
      ],
      "source": [
        "label1, probability1 = predict_audio(audio_file1, model, label_names, device)\n",
        "print(f\"Audio file 1: {audio_file1}\\nPredicted label: {label1}\\nProbability: {probability1}\\n\")\n",
        "\n",
        "label2, probability2 = predict_audio(audio_file2, model, label_names, device)\n",
        "print(f\"Audio file 2: {audio_file2}\\nPredicted label: {label2}\\nProbability: {probability2}\\n\")"
      ]
    },
    {
      "cell_type": "code",
      "execution_count": null,
      "metadata": {
        "id": "U4w18li8ylPI"
      },
      "outputs": [],
      "source": []
    }
  ],
  "metadata": {
    "accelerator": "GPU",
    "colab": {
      "machine_shape": "hm",
      "provenance": [],
      "toc_visible": true
    },
    "gpuClass": "standard",
    "kernelspec": {
      "display_name": "Python 3",
      "name": "python3"
    },
    "language_info": {
      "name": "python"
    }
  },
  "nbformat": 4,
  "nbformat_minor": 0
}
